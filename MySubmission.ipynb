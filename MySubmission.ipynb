{
 "cells": [
  {
   "cell_type": "markdown",
   "id": "4bde6631-f107-4947-ac6d-d9e2dde307c3",
   "metadata": {
    "tags": []
   },
   "source": [
    "https://github.com/tanuj127/spaceY/blob/main/MySubmission"
   ]
  },
  {
   "cell_type": "code",
   "execution_count": null,
   "id": "87db4c71-f51d-4d69-a79f-a3fd36b66d97",
   "metadata": {},
   "outputs": [],
   "source": []
  }
 ],
 "metadata": {
  "kernelspec": {
   "display_name": "Python",
   "language": "python",
   "name": "conda-env-python-py"
  },
  "language_info": {
   "codemirror_mode": {
    "name": "ipython",
    "version": 3
   },
   "file_extension": ".py",
   "mimetype": "text/x-python",
   "name": "python",
   "nbconvert_exporter": "python",
   "pygments_lexer": "ipython3",
   "version": "3.7.12"
  }
 },
 "nbformat": 4,
 "nbformat_minor": 5
}
